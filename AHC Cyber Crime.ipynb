{
  "nbformat": 4,
  "nbformat_minor": 0,
  "metadata": {
    "colab": {
      "provenance": []
    },
    "kernelspec": {
      "name": "python3",
      "display_name": "Python 3"
    },
    "language_info": {
      "name": "python"
    }
  },
  "cells": [
    {
      "cell_type": "code",
      "execution_count": null,
      "metadata": {
        "id": "cOHPJ3I1xxWP"
      },
      "outputs": [],
      "source": [
        "# IMPORT LIBRARY\n",
        "import numpy as np #mengolah data yang berbentuk array \n",
        "import pandas as pd #membaca file dan display tabel\n",
        "import matplotlib.pyplot as plt"
      ]
    },
    {
      "cell_type": "code",
      "source": [
        "# PACKAGE UNTUK MEMBUAT PLOT DALAM BENTUK DIAGRAM BATANG\n",
        "import seaborn as sns \n",
        "from sklearn.cluster import AgglomerativeClustering\n",
        "from scipy.cluster.hierarchy import dendrogram, linkage\n",
        "\n",
        "# SHILHOUETTE SCORE DIGUNAKAN UNTUK MENGUKUR KULAITAS CLUSTER YANG TERBENTUK\n",
        "from sklearn.metrics import silhouette_score\n",
        "\n",
        "# STANDARD SCALER UNTUK MELAKUKAN PREPROCESSING, MENYERAGAMKAN RENTANG NILAI DATA PADA DATASET\n",
        "from sklearn.preprocessing import StandardScaler\n",
        "\n",
        "from sklearn.decomposition import PCA\n",
        "from sklearn.metrics.pairwise import cosine_similarity"
      ],
      "metadata": {
        "id": "aaQiLowtyE8D"
      },
      "execution_count": null,
      "outputs": []
    },
    {
      "cell_type": "code",
      "source": [
        "# Dataset yang diambil yaitu dari dataset Insiden dan Tingkat Total Kejahatan Di Kota Chhattisgarh dari tahun 2005 hingga 2009\n",
        "dataset = pd.read_excel('/content/cyber crime data.xlsx')\n",
        "print(dataset)"
      ],
      "metadata": {
        "colab": {
          "base_uri": "https://localhost:8080/"
        },
        "id": "wzl0t_KKzbRA",
        "outputId": "37dceb5e-d9ec-4b4b-fa9b-d127ebb0487f"
      },
      "execution_count": null,
      "outputs": [
        {
          "output_type": "stream",
          "name": "stdout",
          "text": [
            "    Year  Tipe Kejahatan  Jumlah Kejahatan  Total Pelaku Ditangkap\n",
            "0   2005               0                18                      24\n",
            "1   2005               1                28                      51\n",
            "2   2006               0                 1                       1\n",
            "3   2006               1                30                      37\n",
            "4   2007               0                 5                       4\n",
            "5   2007               1                52                      82\n",
            "6   2008               0                 1                       1\n",
            "7   2008               1                19                      24\n",
            "8   2009               0                 4                       7\n",
            "9   2009               1                46                      44\n",
            "10  2010               0                 4                       7\n",
            "11  2010               1                46                      44\n",
            "12  2011               0                 2                       2\n",
            "13  2011               1                76                     102\n",
            "14  2012               0                49                      35\n",
            "15  2012               1                20                      25\n",
            "16  2013               0                91                      35\n",
            "17  2013               1                10                      15\n",
            "18  2014               0                 4                       7\n",
            "19  2014               1                10                      11\n",
            "20  2015               0                10                      19\n",
            "21  2015               1                80                      85\n",
            "22  2016               0                17                      20\n",
            "23  2016               1                90                     105\n",
            "24  2017               0                 5                       9\n",
            "25  2017               1                 7                       9\n",
            "26  2018               0                 1                       1\n",
            "27  2018               1                 5                       7\n",
            "28  2019               0                 3                       5\n",
            "29  2019               1                 6                      10\n"
          ]
        }
      ]
    },
    {
      "cell_type": "code",
      "source": [
        "# Pengecekan nilai null (kosong) pada tiap kolom dalam dataset\n",
        "dataset.isnull().sum().sort_values(ascending=False)"
      ],
      "metadata": {
        "colab": {
          "base_uri": "https://localhost:8080/"
        },
        "id": "g_FPZkp50ZR6",
        "outputId": "bcb7795e-d0e7-43da-ac75-99b11dd45215"
      },
      "execution_count": null,
      "outputs": [
        {
          "output_type": "execute_result",
          "data": {
            "text/plain": [
              "Year                      0\n",
              "Tipe Kejahatan            0\n",
              "Jumlah Kejahatan          0\n",
              "Total Pelaku Ditangkap    0\n",
              "dtype: int64"
            ]
          },
          "metadata": {},
          "execution_count": 18
        }
      ]
    },
    {
      "cell_type": "code",
      "source": [
        "# Preprocessing dataset\n",
        "scaler = StandardScaler()\n",
        "scaled_data = scaler.fit_transform(dataset)\n",
        "\n",
        "df = pd.DataFrame(scaled_data, columns = dataset.columns)\n",
        "print(df)"
      ],
      "metadata": {
        "colab": {
          "base_uri": "https://localhost:8080/"
        },
        "id": "zyniQbjB09Pi",
        "outputId": "faa9f4e3-4e57-4607-c3c1-bcc59b019009"
      },
      "execution_count": null,
      "outputs": [
        {
          "output_type": "stream",
          "name": "stdout",
          "text": [
            "        Year  Tipe Kejahatan  Jumlah Kejahatan  Total Pelaku Ditangkap\n",
            "0  -1.620185            -1.0         -0.239615               -0.121802\n",
            "1  -1.620185             1.0          0.119807                0.791710\n",
            "2  -1.388730            -1.0         -0.850632               -0.899978\n",
            "3  -1.388730             1.0          0.191692                0.318037\n",
            "4  -1.157275            -1.0         -0.706863               -0.798477\n",
            "5  -1.157275             1.0          0.982420                1.840557\n",
            "6  -0.925820            -1.0         -0.850632               -0.899978\n",
            "7  -0.925820             1.0         -0.203672               -0.121802\n",
            "8  -0.694365            -1.0         -0.742805               -0.696976\n",
            "9  -0.694365             1.0          0.766767                0.554874\n",
            "10 -0.462910            -1.0         -0.742805               -0.696976\n",
            "11 -0.462910             1.0          0.766767                0.554874\n",
            "12 -0.231455            -1.0         -0.814690               -0.866144\n",
            "13 -0.231455             1.0          1.845033                2.517232\n",
            "14  0.000000            -1.0          0.874593                0.250370\n",
            "15  0.000000             1.0         -0.167730               -0.087968\n",
            "16  0.231455            -1.0          2.384166                0.250370\n",
            "17  0.231455             1.0         -0.527152               -0.426305\n",
            "18  0.462910            -1.0         -0.742805               -0.696976\n",
            "19  0.462910             1.0         -0.527152               -0.561640\n",
            "20  0.694365            -1.0         -0.527152               -0.290970\n",
            "21  0.694365             1.0          1.988801                1.942058\n",
            "22  0.925820            -1.0         -0.275557               -0.257137\n",
            "23  0.925820             1.0          2.348223                2.618733\n",
            "24  1.157275            -1.0         -0.706863               -0.629308\n",
            "25  1.157275             1.0         -0.634979               -0.629308\n",
            "26  1.388730            -1.0         -0.850632               -0.899978\n",
            "27  1.388730             1.0         -0.706863               -0.696976\n",
            "28  1.620185            -1.0         -0.778748               -0.764643\n",
            "29  1.620185             1.0         -0.670921               -0.595474\n"
          ]
        }
      ]
    },
    {
      "cell_type": "code",
      "source": [
        "# Visualisasi dendogram\n",
        "plt.figure(figsize=(15,10))\n",
        "dendrogram(linkage(df,method=\"ward\"), leaf_rotation=90, p=5, color_threshold=20, leaf_font_size=10)\n",
        "plt.show"
      ],
      "metadata": {
        "colab": {
          "base_uri": "https://localhost:8080/",
          "height": 462
        },
        "id": "Iip4pb4J1iXO",
        "outputId": "d872d94f-cad4-4860-ed38-fbecf2d1bb45"
      },
      "execution_count": null,
      "outputs": [
        {
          "output_type": "execute_result",
          "data": {
            "text/plain": [
              "<function matplotlib.pyplot.show(*args, **kw)>"
            ]
          },
          "metadata": {},
          "execution_count": 20
        },
        {
          "output_type": "display_data",
          "data": {
            "text/plain": [
              "<Figure size 1080x720 with 1 Axes>"
            ],
            "image/png": "[encoded data removed]"
          },
          "metadata": {
            "needs_background": "light"
          }
        }
      ]
    },
    {
      "cell_type": "code",
      "source": [
        "# mencari jumlah cluster terbaik dengan Silhouette Scores\n",
        "silhouette_scores = []\n",
        "\n",
        "for n_cluster in range(2,10):\n",
        "  silhouette_scores.append(\n",
        "    silhouette_score(df, AgglomerativeClustering(n_clusters = n_cluster).fit_predict(df)))\n",
        "\n",
        "plt.bar(range(2,10), silhouette_scores)\n",
        "plt.xlabel('Number of clusters', fontsize=10)\n",
        "plt.ylabel('Silhouette Score', fontsize=10)\n",
        "plt.show()"
      ],
      "metadata": {
        "colab": {
          "base_uri": "https://localhost:8080/",
          "height": 279
        },
        "id": "v6qB7zhm2QZJ",
        "outputId": "6b63ad6d-c1b9-4ee8-9bfb-a23c3306e8d6"
      },
      "execution_count": null,
      "outputs": [
        {
          "output_type": "display_data",
          "data": {
            "text/plain": [
              "<Figure size 432x288 with 1 Axes>"
            ],
            "image/png": "[encoded data removed]"
          },
          "metadata": {
            "needs_background": "light"
          }
        }
      ]
    },
    {
      "cell_type": "code",
      "source": [
        "#  Agglomerative clustering dengan jumlah cluster 6\n",
        "agglo = AgglomerativeClustering(n_clusters=6)\n",
        "agglo.fit(df)\n",
        "labels = agglo.labels_\n",
        "hasil_agglo = pd.concat([df, pd.DataFrame({'cluster':labels})], axis=1)\n",
        "print(hasil_agglo)"
      ],
      "metadata": {
        "colab": {
          "base_uri": "https://localhost:8080/"
        },
        "id": "j20PzfLw4DVJ",
        "outputId": "e9890dc2-d742-4cd2-f5fb-d281a2923209"
      },
      "execution_count": null,
      "outputs": [
        {
          "output_type": "stream",
          "name": "stdout",
          "text": [
            "           x         y  label  cluster\n",
            "0  -0.542828 -2.745079      1        2\n",
            "1   3.181822 -1.308475      0        0\n",
            "2  -1.819479 -1.964485      1        1\n",
            "3   3.121166 -1.146016      0        0\n",
            "4  -1.979212 -1.985445      1        1\n",
            "5   3.816780 -0.939047      0        0\n",
            "6  -2.384257 -1.653592      1        1\n",
            "7   2.395638 -0.392990      0        0\n",
            "8  -2.589268 -1.648310      1        1\n",
            "9   4.034353 -0.470071      0        0\n",
            "10 -2.911357 -1.376404      1        1\n",
            "11  4.104092 -0.119645      0        0\n",
            "12 -3.207375 -0.905037      1        1\n",
            "13  3.666963 -0.282347      0        0\n",
            "14 -0.053811 -1.558288      1        2\n",
            "15  2.362715  1.602372      2        5\n",
            "16  1.096051 -0.896124      1        2\n",
            "17  0.749816  2.011110      2        4\n",
            "18 -3.531182  0.085642      1        3\n",
            "19  0.345081  2.282427      2        4\n",
            "20 -3.236238  0.313892      1        3\n",
            "21  3.361221  0.465826      0        0\n",
            "22 -2.886993  0.592022      1        3\n",
            "23  3.222403  0.401911      0        0\n",
            "24 -3.174682  0.957899      1        3\n",
            "25 -0.244814  2.697911      2        4\n",
            "26 -3.140432  1.151383      1        3\n",
            "27 -0.438017  2.720513      2        4\n",
            "28 -2.938370  1.318401      1        3\n",
            "29 -0.379787  2.790045      2        4\n"
          ]
        }
      ]
    },
    {
      "cell_type": "code",
      "source": [
        "for i in hasil_agglo: grid = sns.FacetGrid(hasil_agglo, col='cluster')\n",
        "grid.map(plt.hist,i)"
      ],
      "metadata": {
        "colab": {
          "base_uri": "https://localhost:8080/",
          "height": 755
        },
        "id": "DDbDQB8edsUW",
        "outputId": "e17ac6d2-ca8a-46ca-fe1e-d16d4977af36"
      },
      "execution_count": null,
      "outputs": [
        {
          "output_type": "execute_result",
          "data": {
            "text/plain": [
              "<seaborn.axisgrid.FacetGrid at 0x7f95a5585610>"
            ]
          },
          "metadata": {},
          "execution_count": 38
        },
        {
          "output_type": "display_data",
          "data": {
            "text/plain": [
              "<Figure size 1296x216 with 6 Axes>"
            ],
            "image/png": "[encoded data removed]"
          },
          "metadata": {
            "needs_background": "light"
          }
        },
        {
          "output_type": "display_data",
          "data": {
            "text/plain": [
              "<Figure size 1296x216 with 6 Axes>"
            ],
            "image/png": "[encoded data removed]"
          },
          "metadata": {
            "needs_background": "light"
          }
        },
        {
          "output_type": "display_data",
          "data": {
            "text/plain": [
              "<Figure size 1296x216 with 6 Axes>"
            ],
            "image/png": "[encoded data removed]"
          },
          "metadata": {
            "needs_background": "light"
          }
        },
        {
          "output_type": "display_data",
          "data": {
            "text/plain": [
              "<Figure size 1296x216 with 6 Axes>"
            ],
            "image/png": "[encoded data removed]"
          },
          "metadata": {
            "needs_background": "light"
          }
        }
      ]
    },
    {
      "cell_type": "code",
      "source": [
        "dist = 1 - cosine_similarity(df)\n",
        "\n",
        "pca = PCA(n_components = 2)\n",
        "pca = pca.fit_transform(dist)"
      ],
      "metadata": {
        "id": "ZAejZ0qJ5s5K"
      },
      "execution_count": null,
      "outputs": []
    },
    {
      "cell_type": "code",
      "source": [
        "# Visualisasi penyebaran agglomerative clustering\n",
        "\n",
        "x, y = pca[:,0], pca[:,1]\n",
        "\n",
        "warna = {0: 'red',\n",
        "         1: 'blue',\n",
        "         2: 'green',\n",
        "         3: 'yellow',\n",
        "         4: 'purple',\n",
        "         5: 'black'}\n",
        "\n",
        "label_pca = {0: 'cluster 0',\n",
        "             1: 'cluster 1',\n",
        "             2: 'cluster 2',\n",
        "             3: 'cluster 3',\n",
        "             4: 'cluster 4',\n",
        "             5: 'cluster 5'}\n",
        "df = pd.DataFrame({'x' : x, 'y' : y, 'label' : labels})\n",
        "groups = df.groupby('label')\n",
        "\n",
        "fig, ax = plt.subplots(figsize=(15,10))\n",
        "\n",
        "for name, group in groups: ax.plot(group.x, group.y, marker='o', linestyle= '', ms=5, color=warna[name], label=label_pca[name], mec = 'none')\n",
        "ax.set_aspect('auto')\n",
        "ax.tick_params(axis='x', which='both',bottom='off',top='off',labelbottom='off')\n",
        "ax.tick_params(axis='y', which='both',left='off',top='off',labelleft='off')"
      ],
      "metadata": {
        "colab": {
          "base_uri": "https://localhost:8080/",
          "height": 595
        },
        "id": "KS0Sz6Us6Gg_",
        "outputId": "14a17548-18b9-4b5f-c035-fa37aa1f4cb6"
      },
      "execution_count": null,
      "outputs": [
        {
          "output_type": "display_data",
          "data": {
            "text/plain": [
              "<Figure size 1080x720 with 1 Axes>"
            ],
            "image/png": "[encoded data removed]"
          },
          "metadata": {
            "needs_background": "light"
          }
        }
      ]
    }
  ]
}